{
 "cells": [
  {
   "cell_type": "code",
   "execution_count": 1,
   "metadata": {},
   "outputs": [],
   "source": [
    "import numpy as np\n",
    "import matplotlib.pyplot as plt"
   ]
  },
  {
   "cell_type": "code",
   "execution_count": 2,
   "metadata": {},
   "outputs": [
    {
     "name": "stdout",
     "output_type": "stream",
     "text": [
      "Using matplotlib backend: Qt5Agg\n"
     ]
    }
   ],
   "source": [
    "%matplotlib"
   ]
  },
  {
   "cell_type": "code",
   "execution_count": 3,
   "metadata": {},
   "outputs": [],
   "source": [
    "num_samples = \\\n",
    "np.load('results/active_u_net_science_bowl_nuclei/num_samples.npy')"
   ]
  },
  {
   "cell_type": "code",
   "execution_count": 4,
   "metadata": {},
   "outputs": [
    {
     "data": {
      "text/plain": [
       "Text(0.5, 1.0, 'NO weight fine-tunning, NO MCMC_Prediction,  and NO early stopping')"
      ]
     },
     "execution_count": 4,
     "metadata": {},
     "output_type": "execute_result"
    }
   ],
   "source": [
    "ent_training_plot = \\\n",
    "np.load('results/active_u_net_science_bowl_nuclei/active_u_net_science_bowl_nuclei_train_3_1_0_0_True_.npy')\n",
    "ent_test_plot = \\\n",
    "np.load('results/active_u_net_science_bowl_nuclei/active_u_net_science_bowl_nuclei_test_3_1_0_0_True_.npy')\n",
    "\n",
    "random_training_plot = \\\n",
    "np.load('results/active_u_net_science_bowl_nuclei/active_u_net_science_bowl_nuclei_train_2_1_0_0_True_.npy')\n",
    "random_test_plot = \\\n",
    "np.load('results/active_u_net_science_bowl_nuclei/active_u_net_science_bowl_nuclei_test_2_1_0_0_True_.npy')\n",
    "\n",
    "\n",
    "plt.plot(num_samples,ent_training_plot,   label='ent_training_miou')\n",
    "plt.plot(num_samples,ent_test_plot, label ='ent_test_miou')\n",
    "\n",
    "\n",
    "plt.plot(num_samples,random_training_plot, label='random_training_miou')\n",
    "plt.plot(num_samples,random_test_plot,  label ='random_test_miou')\n",
    "\n",
    "plt.legend()\n",
    "plt.grid()\n",
    "plt.xlabel(\"Number of Samples\")\n",
    "plt.ylabel(\"Mean IOU\")\n",
    "plt.title('NO weight fine-tunning, NO MCMC_Prediction,  and NO early stopping')"
   ]
  },
  {
   "cell_type": "code",
   "execution_count": null,
   "metadata": {},
   "outputs": [],
   "source": [
    "ent_training_plot = \\\n",
    "np.load('results/active_u_net_science_bowl_nuclei/active_u_net_science_bowl_nuclei_train_3_0_0_0_True_.npy')\n",
    "ent_test_plot = \\\n",
    "np.load('results/active_u_net_science_bowl_nuclei/active_u_net_science_bowl_nuclei_test_3_0_0_0_True_.npy')\n",
    "\n",
    "random_training_plot = \\\n",
    "np.load('results/active_u_net_science_bowl_nuclei/active_u_net_science_bowl_nuclei_train_2_0_0_0_True_.npy')\n",
    "random_test_plot = \\\n",
    "np.load('results/active_u_net_science_bowl_nuclei/active_u_net_science_bowl_nuclei_test_2_0_0_0_True_.npy')\n",
    "\n",
    "\n",
    "plt.plot(num_samples,ent_training_plot, label='ent_training_miou')\n",
    "plt.plot(num_samples,ent_test_plot, label ='ent_test_miou')\n",
    "\n",
    "\n",
    "plt.plot(num_samples,random_training_plot, label='random_training_miou')\n",
    "plt.plot(num_samples,random_test_plot, label ='random_test_miou')\n",
    "\n",
    "\n",
    "\n",
    "plt.legend()\n",
    "plt.grid()\n",
    "plt.xlabel(\"Number of Samples\")\n",
    "plt.ylabel(\"Mean IOU\")\n",
    "plt.title(' Weight fine-tunning, NO MCMC_Prediction,and NO early stopping')"
   ]
  },
  {
   "cell_type": "code",
   "execution_count": null,
   "metadata": {},
   "outputs": [],
   "source": [
    "ent_training_plot = \\\n",
    "np.load('results/active_u_net_science_bowl_nuclei/active_u_net_science_bowl_nuclei_train_3_0_0_1_True_.npy')\n",
    "ent_test_plot = \\\n",
    "np.load('results/active_u_net_science_bowl_nuclei/active_u_net_science_bowl_nuclei_test_3_0_0_1_True_.npy')\n",
    "\n",
    "random_training_plot = \\\n",
    "np.load('results/active_u_net_science_bowl_nuclei/active_u_net_science_bowl_nuclei_train_2_0_0_1_True_.npy')\n",
    "random_test_plot = \\\n",
    "np.load('results/active_u_net_science_bowl_nuclei/active_u_net_science_bowl_nuclei_test_2_0_0_1_True_.npy')\n",
    "\n",
    "\n",
    "\n",
    "plt.plot(num_samples,ent_training_plot, label='bald_training_miou')\n",
    "plt.plot(num_samples,ent_test_plot, label ='bald_test_miou')\n",
    "\n",
    "plt.plot(num_samples,random_training_plot, label='random_training_miou')\n",
    "plt.plot(num_samples,random_test_plot, label ='random_test_miou')\n",
    "\n",
    "\n",
    "\n",
    "plt.legend()\n",
    "plt.grid()\n",
    "plt.xlabel(\"Number of Samples\")\n",
    "plt.ylabel(\"Mean IOU\")\n",
    "plt.title('Weight fine-tunning, No MCMC Prediction, with With early stopping')"
   ]
  },
  {
   "cell_type": "code",
   "execution_count": null,
   "metadata": {},
   "outputs": [],
   "source": [
    "bald_training_plot = \\\n",
    "np.load('results/active_u_net_science_bowl_nuclei/active_u_net_science_bowl_nuclei_train_3_0_1_0_True_.npy')\n",
    "bald_test_plot = \\\n",
    "np.load('results/active_u_net_science_bowl_nuclei/active_u_net_science_bowl_nuclei_test_3_0_1_0_True_.npy')\n",
    "\n",
    "\n",
    "random_training_plot = \\\n",
    "np.load('results/active_u_net_science_bowl_nuclei/active_u_net_science_bowl_nuclei_train_2_0_1_0_True_.npy')\n",
    "random_test_plot = \\\n",
    "np.load('results/active_u_net_science_bowl_nuclei/active_u_net_science_bowl_nuclei_test_2_0_1_0_True_.npy')\n",
    "\n",
    "\n",
    "plt.plot(num_samples,bald_training_plot, label='ent_training_miou')\n",
    "plt.plot(num_samples,bald_test_plot, label ='ent_test_miou')\n",
    "\n",
    "plt.plot(num_samples,random_training_plot, label='random_training_miou')\n",
    "plt.plot(num_samples,random_test_plot, label ='random_test_miou')\n",
    "\n",
    "\n",
    "plt.legend()\n",
    "plt.grid()\n",
    "plt.xlabel(\"Number of Samples\")\n",
    "plt.ylabel(\"Mean IOU\")\n",
    "plt.title('Weight Fine-tunning, with MCMC Prediction, No early stopping')"
   ]
  },
  {
   "cell_type": "code",
   "execution_count": null,
   "metadata": {},
   "outputs": [],
   "source": [
    "bald_training_plot = np.load('results/active_u_net_science_bowl_nuclei/active_u_net_science_bowl_nuclei_train_3_0_1_1_True_.npy')\n",
    "bald_test_plot = np.load('results/active_u_net_science_bowl_nuclei/active_u_net_science_bowl_nuclei_test_3_0_1_1_True_.npy')\n",
    "\n",
    "random_training_plot = np.load('results/active_u_net_science_bowl_nuclei/active_u_net_science_bowl_nuclei_train_2_0_1_1_True_.npy')\n",
    "random_test_plot = np.load('results/active_u_net_science_bowl_nuclei/active_u_net_science_bowl_nuclei_test_2_0_1_1_True_.npy')\n",
    "\n",
    "plt.plot(num_samples,bald_training_plot, label='ent_training_miou')\n",
    "plt.plot(num_samples,bald_test_plot, label ='ent_test_miou')\n",
    "\n",
    "plt.plot(num_samples,random_training_plot, label='random_training_miou')\n",
    "plt.plot(num_samples,random_test_plot, label ='random_test_miou')\n",
    "\n",
    "\n",
    "\n",
    "plt.legend()\n",
    "plt.grid()\n",
    "plt.xlabel(\"Number of Samples\")\n",
    "plt.ylabel(\"Mean IOU\")\n",
    "plt.title('Weight fine-tunning, with MCMC Prediction, with early stopping')"
   ]
  },
  {
   "cell_type": "code",
   "execution_count": null,
   "metadata": {},
   "outputs": [],
   "source": [
    "bald_training_plot = np.load('results/active_u_net_science_bowl_nuclei/active_u_net_science_bowl_nuclei_train_3_1_1_1_True_.npy')\n",
    "bald_test_plot = np.load('results/active_u_net_science_bowl_nuclei/active_u_net_science_bowl_nuclei_test_3_1_1_1_True_.npy')\n",
    "\n",
    "\n",
    "random_training_plot = np.load('results/active_u_net_science_bowl_nuclei/active_u_net_science_bowl_nuclei_train_2_1_1_1_True_.npy')\n",
    "random_test_plot = np.load('results/active_u_net_science_bowl_nuclei/active_u_net_science_bowl_nuclei_test_2_1_1_1_True_.npy')\n",
    "\n",
    "plt.plot(num_samples,bald_training_plot, label='ent_training_miou')\n",
    "plt.plot(num_samples,bald_test_plot, label ='ent_test_miou')\n",
    "\n",
    "plt.plot(num_samples,random_training_plot, label='Random_training_miou')\n",
    "plt.plot(num_samples,random_test_plot, label ='Random_test_miou')\n",
    "\n",
    "\n",
    "plt.legend()\n",
    "plt.grid()\n",
    "plt.xlabel(\"Number of Samples\")\n",
    "plt.ylabel(\"Mean IOU\")\n",
    "plt.title('NO Weight fine-tunning, With MCMC Prediction, With early stopping')"
   ]
  },
  {
   "cell_type": "code",
   "execution_count": null,
   "metadata": {},
   "outputs": [],
   "source": []
  }
 ],
 "metadata": {
  "kernelspec": {
   "display_name": "Python 3",
   "language": "python",
   "name": "python3"
  },
  "language_info": {
   "codemirror_mode": {
    "name": "ipython",
    "version": 3
   },
   "file_extension": ".py",
   "mimetype": "text/x-python",
   "name": "python",
   "nbconvert_exporter": "python",
   "pygments_lexer": "ipython3",
   "version": "3.6.7"
  }
 },
 "nbformat": 4,
 "nbformat_minor": 2
}
