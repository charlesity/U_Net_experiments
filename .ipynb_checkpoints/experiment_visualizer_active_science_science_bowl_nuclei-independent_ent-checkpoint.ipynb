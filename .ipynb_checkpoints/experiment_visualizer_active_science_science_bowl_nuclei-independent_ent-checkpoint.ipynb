{
 "cells": [
  {
   "cell_type": "code",
   "execution_count": 1,
   "metadata": {},
   "outputs": [],
   "source": [
    "import numpy as np\n",
    "import matplotlib.pyplot as plt"
   ]
  },
  {
   "cell_type": "code",
   "execution_count": 2,
   "metadata": {},
   "outputs": [
    {
     "name": "stdout",
     "output_type": "stream",
     "text": [
      "Using matplotlib backend: Qt5Agg\n"
     ]
    }
   ],
   "source": [
    "%matplotlib"
   ]
  },
  {
   "cell_type": "code",
   "execution_count": 3,
   "metadata": {},
   "outputs": [],
   "source": [
    "num_samples = \\\n",
    "np.load('results/active_u_net_science_bowl_nuclei/num_samples.npy')"
   ]
  },
  {
   "cell_type": "code",
   "execution_count": 17,
   "metadata": {},
   "outputs": [
    {
     "data": {
      "text/plain": [
       "Text(0.5, 1.0, ' NO weight re-initilization, NO MCMC_Prediction,  and NO early stopping')"
      ]
     },
     "execution_count": 17,
     "metadata": {},
     "output_type": "execute_result"
    }
   ],
   "source": [
    "bald_training_plot = \\\n",
    "np.load('results/active_u_net_science_bowl_nuclei/active_u_net_science_bowl_nuclei_train_1_1_0_0_True_.npy')\n",
    "bald_test_plot = \\\n",
    "np.load('results/active_u_net_science_bowl_nuclei/active_u_net_science_bowl_nuclei_test_1_1_0_0_True_.npy')\n",
    "\n",
    "random_training_plot = \\\n",
    "np.load('results/active_u_net_science_bowl_nuclei/active_u_net_science_bowl_nuclei_train_2_1_0_0_True_.npy')\n",
    "random_test_plot = \\\n",
    "np.load('results/active_u_net_science_bowl_nuclei/active_u_net_science_bowl_nuclei_test_2_1_0_0_True_.npy')\n",
    "\n",
    "\n",
    "plt.plot(num_samples,bald_training_plot,   label='bald_training_miou')\n",
    "plt.plot(num_samples,bald_test_plot, label ='bald_test_miou')\n",
    "\n",
    "\n",
    "plt.plot(num_samples,random_training_plot, label='random_training_miou')\n",
    "plt.plot(num_samples,random_test_plot,  label ='random_test_miou')\n",
    "\n",
    "plt.legend()\n",
    "plt.grid()\n",
    "plt.xlabel(\"Number of Samples\")\n",
    "plt.ylabel(\"Mean IOU\")\n",
    "plt.title(' NO weight re-initilization, NO MCMC_Prediction,  and NO early stopping')"
   ]
  },
  {
   "cell_type": "code",
   "execution_count": 16,
   "metadata": {},
   "outputs": [
    {
     "data": {
      "text/plain": [
       "Text(0.5, 1.0, ' NO weight re-initilization, NO MCMC_Prediction,  and NO early stopping')"
      ]
     },
     "execution_count": 16,
     "metadata": {},
     "output_type": "execute_result"
    }
   ],
   "source": [
    "bald_training_plot = \\\n",
    "np.load('results/active_u_net_science_bowl_nuclei/active_u_net_science_bowl_nuclei_train_1_0_0_0_True_.npy')\n",
    "bald_test_plot = \\\n",
    "np.load('results/active_u_net_science_bowl_nuclei/active_u_net_science_bowl_nuclei_test_1_0_0_0_True_.npy')\n",
    "\n",
    "random_training_plot = \\\n",
    "np.load('results/active_u_net_science_bowl_nuclei/active_u_net_science_bowl_nuclei_train_2_0_0_0_True_.npy')\n",
    "random_test_plot = \\\n",
    "np.load('results/active_u_net_science_bowl_nuclei/active_u_net_science_bowl_nuclei_test_2_0_0_0_True_.npy')\n",
    "\n",
    "\n",
    "plt.plot(num_samples,bald_training_plot, label='bald_training_miou')\n",
    "plt.plot(num_samples,bald_test_plot, label ='bald_test_miou')\n",
    "\n",
    "\n",
    "plt.plot(num_samples,random_training_plot, label='random_training_miou')\n",
    "plt.plot(num_samples,random_test_plot, label ='random_test_miou')\n",
    "\n",
    "\n",
    "\n",
    "plt.legend()\n",
    "plt.grid()\n",
    "plt.xlabel(\"Number of Samples\")\n",
    "plt.ylabel(\"Mean IOU\")\n",
    "plt.title(' NO weight re-initilization, NO MCMC_Prediction,  and NO early stopping')"
   ]
  },
  {
   "cell_type": "code",
   "execution_count": 6,
   "metadata": {},
   "outputs": [
    {
     "data": {
      "text/plain": [
       "Text(0.5, 1.0, 'No weight re-initialization, No MCMC Prediction, With early stopping')"
      ]
     },
     "execution_count": 6,
     "metadata": {},
     "output_type": "execute_result"
    }
   ],
   "source": [
    "bald_training_plot = \\\n",
    "np.load('results/active_u_net_science_bowl_nuclei/active_u_net_science_bowl_nuclei_train_1_0_0_1_True_.npy')\n",
    "bald_test_plot = \\\n",
    "np.load('results/active_u_net_science_bowl_nuclei/active_u_net_science_bowl_nuclei_test_1_0_0_1_True_.npy')\n",
    "\n",
    "random_training_plot = \\\n",
    "np.load('results/active_u_net_science_bowl_nuclei/active_u_net_science_bowl_nuclei_train_2_0_0_1_True_.npy')\n",
    "random_test_plot = \\\n",
    "np.load('results/active_u_net_science_bowl_nuclei/active_u_net_science_bowl_nuclei_test_2_0_0_1_True_.npy')\n",
    "\n",
    "\n",
    "\n",
    "plt.plot(num_samples,bald_training_plot, label='bald_training_miou')\n",
    "plt.plot(num_samples,bald_test_plot, label ='bald_test_miou')\n",
    "\n",
    "plt.plot(num_samples,random_training_plot, label='random_training_miou')\n",
    "plt.plot(num_samples,random_test_plot, label ='random_test_miou')\n",
    "\n",
    "\n",
    "\n",
    "plt.legend()\n",
    "plt.grid()\n",
    "plt.xlabel(\"Number of Samples\")\n",
    "plt.ylabel(\"Mean IOU\")\n",
    "plt.title('No weight re-initialization, No MCMC Prediction, With early stopping')"
   ]
  },
  {
   "cell_type": "code",
   "execution_count": 9,
   "metadata": {},
   "outputs": [
    {
     "data": {
      "text/plain": [
       "Text(0.5, 1.0, 'No weight re-initialization, MCMC Prediction, No early stopping')"
      ]
     },
     "execution_count": 9,
     "metadata": {},
     "output_type": "execute_result"
    }
   ],
   "source": [
    "bald_training_plot = \\\n",
    "np.load('results/active_u_net_science_bowl_nuclei/active_u_net_science_bowl_nuclei_train_1_0_1_0_True_.npy')\n",
    "bald_test_plot = \\\n",
    "np.load('results/active_u_net_science_bowl_nuclei/active_u_net_science_bowl_nuclei_test_1_0_1_0_True_.npy')\n",
    "\n",
    "\n",
    "random_training_plot = \\\n",
    "np.load('results/active_u_net_science_bowl_nuclei/active_u_net_science_bowl_nuclei_train_2_0_1_0_True_.npy')\n",
    "random_test_plot = \\\n",
    "np.load('results/active_u_net_science_bowl_nuclei/active_u_net_science_bowl_nuclei_test_2_0_1_0_True_.npy')\n",
    "\n",
    "\n",
    "plt.plot(num_samples,bald_training_plot, label='bald_training_miou')\n",
    "plt.plot(num_samples,bald_test_plot, label ='bald_test_miou')\n",
    "\n",
    "plt.plot(num_samples,random_training_plot, label='random_training_miou')\n",
    "plt.plot(num_samples,random_test_plot, label ='random_test_miou')\n",
    "\n",
    "\n",
    "plt.legend()\n",
    "plt.grid()\n",
    "plt.xlabel(\"Number of Samples\")\n",
    "plt.ylabel(\"Mean IOU\")\n",
    "plt.title('No weight re-initialization, MCMC Prediction, No early stopping')"
   ]
  },
  {
   "cell_type": "code",
   "execution_count": 10,
   "metadata": {},
   "outputs": [
    {
     "data": {
      "text/plain": [
       "Text(0.5, 1.0, 'No weight re-initialization, MCMC Prediction, with early stopping')"
      ]
     },
     "execution_count": 10,
     "metadata": {},
     "output_type": "execute_result"
    }
   ],
   "source": [
    "bald_training_plot = np.load('results/active_u_net_science_bowl_nuclei/active_u_net_science_bowl_nuclei_train_1_0_1_1_True_.npy')\n",
    "bald_test_plot = np.load('results/active_u_net_science_bowl_nuclei/active_u_net_science_bowl_nuclei_test_1_0_1_1_True_.npy')\n",
    "\n",
    "random_training_plot = np.load('results/active_u_net_science_bowl_nuclei/active_u_net_science_bowl_nuclei_train_2_0_1_1_True_.npy')\n",
    "random_test_plot = np.load('results/active_u_net_science_bowl_nuclei/active_u_net_science_bowl_nuclei_test_2_0_1_1_True_.npy')\n",
    "\n",
    "plt.plot(num_samples,bald_training_plot, label='bald_training_miou')\n",
    "plt.plot(num_samples,bald_test_plot, label ='bald_test_miou')\n",
    "\n",
    "plt.plot(num_samples,random_training_plot, label='random_training_miou')\n",
    "plt.plot(num_samples,random_test_plot, label ='random_test_miou')\n",
    "\n",
    "\n",
    "\n",
    "plt.legend()\n",
    "plt.grid()\n",
    "plt.xlabel(\"Number of Samples\")\n",
    "plt.ylabel(\"Mean IOU\")\n",
    "plt.title('No weight re-initialization, MCMC Prediction, with early stopping')"
   ]
  },
  {
   "cell_type": "code",
   "execution_count": 11,
   "metadata": {},
   "outputs": [
    {
     "ename": "FileNotFoundError",
     "evalue": "[Errno 2] No such file or directory: 'results/active_u_net_science_bowl_nuclei/active_u_net_science_bowl_nuclei_train_1_1_1_1_True_.npy'",
     "output_type": "error",
     "traceback": [
      "\u001b[0;31m---------------------------------------------------------------------------\u001b[0m",
      "\u001b[0;31mFileNotFoundError\u001b[0m                         Traceback (most recent call last)",
      "\u001b[0;32m<ipython-input-11-8e9b90d1d4a1>\u001b[0m in \u001b[0;36m<module>\u001b[0;34m\u001b[0m\n\u001b[0;32m----> 1\u001b[0;31m \u001b[0mbald_training_plot\u001b[0m \u001b[0;34m=\u001b[0m \u001b[0mnp\u001b[0m\u001b[0;34m.\u001b[0m\u001b[0mload\u001b[0m\u001b[0;34m(\u001b[0m\u001b[0;34m'results/active_u_net_science_bowl_nuclei/active_u_net_science_bowl_nuclei_train_1_1_1_1_True_.npy'\u001b[0m\u001b[0;34m)\u001b[0m\u001b[0;34m\u001b[0m\u001b[0;34m\u001b[0m\u001b[0m\n\u001b[0m\u001b[1;32m      2\u001b[0m \u001b[0mbald_test_plot\u001b[0m \u001b[0;34m=\u001b[0m \u001b[0mnp\u001b[0m\u001b[0;34m.\u001b[0m\u001b[0mload\u001b[0m\u001b[0;34m(\u001b[0m\u001b[0;34m'results/active_u_net_science_bowl_nuclei/active_u_net_science_bowl_nuclei_test_1_1_1_1_True_.npy'\u001b[0m\u001b[0;34m)\u001b[0m\u001b[0;34m\u001b[0m\u001b[0;34m\u001b[0m\u001b[0m\n\u001b[1;32m      3\u001b[0m \u001b[0;34m\u001b[0m\u001b[0m\n\u001b[1;32m      4\u001b[0m \u001b[0;34m\u001b[0m\u001b[0m\n\u001b[1;32m      5\u001b[0m \u001b[0mrandom_training_plot\u001b[0m \u001b[0;34m=\u001b[0m \u001b[0mnp\u001b[0m\u001b[0;34m.\u001b[0m\u001b[0mload\u001b[0m\u001b[0;34m(\u001b[0m\u001b[0;34m'results/active_u_net_science_bowl_nuclei/active_u_net_science_bowl_nuclei_train_2_1_1_1_True_.npy'\u001b[0m\u001b[0;34m)\u001b[0m\u001b[0;34m\u001b[0m\u001b[0;34m\u001b[0m\u001b[0m\n",
      "\u001b[0;32m~/anaconda3/lib/python3.6/site-packages/numpy/lib/npyio.py\u001b[0m in \u001b[0;36mload\u001b[0;34m(file, mmap_mode, allow_pickle, fix_imports, encoding)\u001b[0m\n\u001b[1;32m    382\u001b[0m     \u001b[0mown_fid\u001b[0m \u001b[0;34m=\u001b[0m \u001b[0;32mFalse\u001b[0m\u001b[0;34m\u001b[0m\u001b[0;34m\u001b[0m\u001b[0m\n\u001b[1;32m    383\u001b[0m     \u001b[0;32mif\u001b[0m \u001b[0misinstance\u001b[0m\u001b[0;34m(\u001b[0m\u001b[0mfile\u001b[0m\u001b[0;34m,\u001b[0m \u001b[0mbasestring\u001b[0m\u001b[0;34m)\u001b[0m\u001b[0;34m:\u001b[0m\u001b[0;34m\u001b[0m\u001b[0;34m\u001b[0m\u001b[0m\n\u001b[0;32m--> 384\u001b[0;31m         \u001b[0mfid\u001b[0m \u001b[0;34m=\u001b[0m \u001b[0mopen\u001b[0m\u001b[0;34m(\u001b[0m\u001b[0mfile\u001b[0m\u001b[0;34m,\u001b[0m \u001b[0;34m\"rb\"\u001b[0m\u001b[0;34m)\u001b[0m\u001b[0;34m\u001b[0m\u001b[0;34m\u001b[0m\u001b[0m\n\u001b[0m\u001b[1;32m    385\u001b[0m         \u001b[0mown_fid\u001b[0m \u001b[0;34m=\u001b[0m \u001b[0;32mTrue\u001b[0m\u001b[0;34m\u001b[0m\u001b[0;34m\u001b[0m\u001b[0m\n\u001b[1;32m    386\u001b[0m     \u001b[0;32melif\u001b[0m \u001b[0mis_pathlib_path\u001b[0m\u001b[0;34m(\u001b[0m\u001b[0mfile\u001b[0m\u001b[0;34m)\u001b[0m\u001b[0;34m:\u001b[0m\u001b[0;34m\u001b[0m\u001b[0;34m\u001b[0m\u001b[0m\n",
      "\u001b[0;31mFileNotFoundError\u001b[0m: [Errno 2] No such file or directory: 'results/active_u_net_science_bowl_nuclei/active_u_net_science_bowl_nuclei_train_1_1_1_1_True_.npy'"
     ]
    }
   ],
   "source": [
    "bald_training_plot = np.load('results/active_u_net_science_bowl_nuclei/active_u_net_science_bowl_nuclei_train_1_1_1_1_True_.npy')\n",
    "bald_test_plot = np.load('results/active_u_net_science_bowl_nuclei/active_u_net_science_bowl_nuclei_test_1_1_1_1_True_.npy')\n",
    "\n",
    "\n",
    "random_training_plot = np.load('results/active_u_net_science_bowl_nuclei/active_u_net_science_bowl_nuclei_train_2_1_1_1_True_.npy')\n",
    "random_test_plot = np.load('results/active_u_net_science_bowl_nuclei/active_u_net_science_bowl_nuclei_test_2_1_1_1_True_.npy')\n",
    "\n",
    "plt.plot(num_samples,bald_training_plot, label='BALD_training_miou')\n",
    "plt.plot(num_samples,bald_test_plot, label ='BALD_test_miou')\n",
    "\n",
    "plt.plot(num_samples,random_training_plot, label='Random_training_miou')\n",
    "plt.plot(num_samples,random_test_plot, label ='Random_test_miou')\n",
    "\n",
    "\n",
    "plt.legend()\n",
    "plt.grid()\n",
    "plt.xlabel(\"Number of Samples\")\n",
    "plt.ylabel(\"Mean IOU\")\n",
    "plt.title('Weight re-initialization, With MCMC Prediction, With early stopping')"
   ]
  },
  {
   "cell_type": "code",
   "execution_count": null,
   "metadata": {},
   "outputs": [],
   "source": []
  }
 ],
 "metadata": {
  "kernelspec": {
   "display_name": "Python 3",
   "language": "python",
   "name": "python3"
  },
  "language_info": {
   "codemirror_mode": {
    "name": "ipython",
    "version": 3
   },
   "file_extension": ".py",
   "mimetype": "text/x-python",
   "name": "python",
   "nbconvert_exporter": "python",
   "pygments_lexer": "ipython3",
   "version": "3.6.7"
  }
 },
 "nbformat": 4,
 "nbformat_minor": 2
}
