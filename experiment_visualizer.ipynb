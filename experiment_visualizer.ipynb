{
 "cells": [
  {
   "cell_type": "code",
   "execution_count": 1,
   "metadata": {},
   "outputs": [],
   "source": [
    "import numpy as np\n",
    "import matplotlib.pyplot as plt"
   ]
  },
  {
   "cell_type": "code",
   "execution_count": 2,
   "metadata": {},
   "outputs": [
    {
     "name": "stdout",
     "output_type": "stream",
     "text": [
      "Using matplotlib backend: Qt5Agg\n"
     ]
    }
   ],
   "source": [
    "%matplotlib "
   ]
  },
  {
   "cell_type": "code",
   "execution_count": 3,
   "metadata": {},
   "outputs": [],
   "source": [
    "data_no_dropout = np.load('results/results_no_dropout.npy')\n",
    "data_standard = np.load('results/result_standard_dropout.npy')\n",
    "data_maxpool = np.load('results/result_maxpool_dropout.npy')\n",
    "data_both = np.load('results/result_both.npy')"
   ]
  },
  {
   "cell_type": "code",
   "execution_count": 4,
   "metadata": {},
   "outputs": [],
   "source": [
    "val_set = np.arange(.99, .01, -.10)\n",
    "for i, v in enumerate(val_set):\n",
    "    plt.subplot(2,5,i+1)\n",
    "    plt.plot(data_no_dropout[0][i][:], label='No dropout')\n",
    "    plt.plot(data_standard[0][i][:], label='standard')\n",
    "    plt.plot(data_maxpool[0][i][:], label='before-MaxPool dropout')\n",
    "    plt.plot(data_both[0][i][:], label='Both')\n",
    "    plt.legend()\n",
    "    plt.xlabel('nb_epochs')\n",
    "    plt.ylabel('error')\n",
    "    s = round((1-v)*670, 2)\n",
    "    plt.title('Loss on Ts ' +str(s))"
   ]
  },
  {
   "cell_type": "code",
   "execution_count": 8,
   "metadata": {},
   "outputs": [],
   "source": [
    "val_set = np.arange(.99, .01, -.10)\n",
    "for i, v in enumerate(val_set):\n",
    "    plt.subplot(2,5,i+1)\n",
    "    plt.plot(data_no_dropout[1][i][:], label='No dropout')\n",
    "    plt.plot(data_standard[1][i][:], label='Standard')\n",
    "    plt.plot(data_maxpool[1][i][:], label='before-MaxPool dropout')\n",
    "    plt.plot(data_both[1][i][:], label='Both')\n",
    "    plt.legend()\n",
    "    plt.xlabel('nb_epochs')\n",
    "    plt.ylabel('error')\n",
    "    s = round((1-v)*670, 2)\n",
    "    plt.title('Val Loss on Ts ' +str(s))\n",
    "\n"
   ]
  },
  {
   "cell_type": "code",
   "execution_count": 9,
   "metadata": {},
   "outputs": [],
   "source": [
    "val_set = np.arange(.99, .01, -.10)\n",
    "for i, v in enumerate(val_set):\n",
    "    plt.subplot(2,5,i+1)\n",
    "    plt.plot(data_no_dropout[2][i][:], label='No dropout')\n",
    "    plt.plot(data_standard[2][i][:], label='Standard')\n",
    "    plt.plot(data_maxpool[2][i][:], label='before-MaxPool Dropout')\n",
    "    plt.plot(data_both[2][i][:], label='Both')\n",
    "    plt.legend()\n",
    "    plt.xlabel('nb_epochs')\n",
    "    plt.ylabel('mIOU')\n",
    "    s = round((1-v)*670, 2)\n",
    "    plt.title('mIOU on Ts ' +str(s))"
   ]
  },
  {
   "cell_type": "code",
   "execution_count": 10,
   "metadata": {},
   "outputs": [],
   "source": [
    "val_set = np.arange(.99, .01, -.10)\n",
    "for i, v in enumerate(val_set):\n",
    "    plt.subplot(2,5,i+1)\n",
    "    plt.plot(data_no_dropout[3][i][:], label='No dropout')\n",
    "    plt.plot(data_standard[3][i][:], label='Standard')\n",
    "    plt.plot(data_maxpool[3][i][:], label='before-MaxPool')\n",
    "    plt.plot(data_both[3][i][:], label='Both')\n",
    "    plt.legend()\n",
    "    plt.xlabel('nb_epochs')\n",
    "    plt.ylabel('mIOU')\n",
    "    s = round((1-v)*670, 2)\n",
    "    plt.title('Val mIOU on Ts ' +str(s))\n",
    "\n"
   ]
  },
  {
   "cell_type": "code",
   "execution_count": null,
   "metadata": {},
   "outputs": [],
   "source": []
  }
 ],
 "metadata": {
  "kernelspec": {
   "display_name": "Python 3",
   "language": "python",
   "name": "python3"
  },
  "language_info": {
   "codemirror_mode": {
    "name": "ipython",
    "version": 3
   },
   "file_extension": ".py",
   "mimetype": "text/x-python",
   "name": "python",
   "nbconvert_exporter": "python",
   "pygments_lexer": "ipython3",
   "version": "3.6.7"
  }
 },
 "nbformat": 4,
 "nbformat_minor": 2
}
